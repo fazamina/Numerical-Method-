{
 "cells": [
  {
   "cell_type": "markdown",
   "metadata": {},
   "source": [
    "# Nomor 2 (NPM 2006523672)"
   ]
  },
  {
   "cell_type": "markdown",
   "metadata": {},
   "source": [
    "# Metode False Position"
   ]
  },
  {
   "cell_type": "markdown",
   "metadata": {},
   "source": [
    "$𝑓$ fungsi kontinu dan terturunkan di $p_0$ dan $p_1$ dimana $𝑓(𝑝0)$ dan $𝑓(𝑝1)$ berlawanan tanda\n",
    "\n",
    "$$p_n = p_{n-1} - \\frac{f(p_{n-1})(p_{n-1}-p_{n-2})}{f(p_{n-1})-f(p_{n-2})}$$"
   ]
  },
  {
   "cell_type": "code",
   "execution_count": 3,
   "metadata": {},
   "outputs": [
    {
     "name": "stdout",
     "output_type": "stream",
     "text": [
      "Masukkan formula fungsi : log(x-1)+cos(x-1)-0.2\n",
      "Masukan titik awal pertama iterasi : 2.5\n",
      "Masukan titik awal kedua iterasi : 3.5\n",
      "Masukan toleransi aproksimasi : 0.00001\n",
      "Akar dari persamaan f(x) = log(x-1)+cos(x-1)-0.2 adalah x = 3.1998773\n"
     ]
    }
   ],
   "source": [
    "#Meng-import numpy\n",
    "import numpy as np #Pemanggilan numpy dengan np\n",
    "from numpy import sin, cos, tan, log, exp  #Dari modul numpy import fungsi sin, cos, tan, log, exp\n",
    "\n",
    "formula = input('Masukkan formula fungsi : ') #Input nilai fungsi\n",
    "\n",
    "#Mendefinisikan formula fungsi\n",
    "def f(x):\n",
    "    return eval(formula)\n",
    "\n",
    "#Menerapkan metode False Position\n",
    "def FalsePosition (h0,h1,tolerance): #h0 adalah p(n-2) dan h1 adalah p(n-1) \n",
    "    h = h1 - (f(h1)*(h1-h0))/(f(h1)-f(h0)) #Memasukkan rumus metode False Position\n",
    "    abs_error = abs(h-h1) #Mendefinisikan |p − p1| sebagai abs error\n",
    "    h1 = h\n",
    "    while abs_error >= tolerance: #Memeriksa nilai |p − p1| < TOL\n",
    "        h = h1 - (f(h1)*(h1-h0))/(f(h1)-f(h0))\n",
    "        abs_error = abs(h-h1)\n",
    "        h1 = h\n",
    "    return h\n",
    "\n",
    "#Input Section\n",
    "starting_point1 = eval(input('Masukan titik awal pertama iterasi : ')) #Input titik awal pertama\n",
    "starting_point2 = eval(input('Masukan titik awal kedua iterasi : ')) #Input titik awal kedua\n",
    "tolerance = eval(input('Masukan toleransi aproksimasi : ')) #Input aproksimasi toleransi\n",
    "akar_falseposition = FalsePosition (starting_point1,starting_point2,tolerance) \n",
    "\n",
    "#Memeriksa nilai f(p0) dan f(p1) tidak berlawanan tanda\n",
    "if f(starting_point1)*f(starting_point2) < 0: #Nilai perkalian f(p0) dan f(p1) akan negatif jika berlawanan tanda (+,-)\n",
    "    print('Akar dari persamaan f(x) = {0} adalah x = {1:.7f}'.format(formula, akar_falseposition)) #Jika berhasil, print output\n",
    "else:\n",
    "    print('Metode Gagal. Coba masukkan nilai lain!') #Jika gagal print pesan gagal"
   ]
  },
  {
   "cell_type": "code",
   "execution_count": null,
   "metadata": {},
   "outputs": [],
   "source": []
  }
 ],
 "metadata": {
  "kernelspec": {
   "display_name": "Python 3",
   "language": "python",
   "name": "python3"
  },
  "language_info": {
   "codemirror_mode": {
    "name": "ipython",
    "version": 3
   },
   "file_extension": ".py",
   "mimetype": "text/x-python",
   "name": "python",
   "nbconvert_exporter": "python",
   "pygments_lexer": "ipython3",
   "version": "3.8.3"
  }
 },
 "nbformat": 4,
 "nbformat_minor": 4
}
