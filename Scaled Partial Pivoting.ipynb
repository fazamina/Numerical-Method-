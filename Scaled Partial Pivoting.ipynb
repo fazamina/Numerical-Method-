{
 "cells": [
  {
   "cell_type": "markdown",
   "metadata": {},
   "source": [
    "# Tugas 5 Praktikum Metode Numerik"
   ]
  },
  {
   "cell_type": "markdown",
   "metadata": {},
   "source": [
    "**Faza Muthmainnah - NPM 2006523672 - Kelas Metnum (B)**"
   ]
  },
  {
   "cell_type": "markdown",
   "metadata": {},
   "source": [
    "NPM Genap: Scaled Partial Pivoting"
   ]
  },
  {
   "cell_type": "code",
   "execution_count": 9,
   "metadata": {},
   "outputs": [
    {
     "name": "stdout",
     "output_type": "stream",
     "text": [
      "Masukkan 5 digit terakhir NPM kamu: [2,3,6,7,2]\n",
      "Augmented matriks yang terbentuk dari SPL :\n",
      "[[ -6.  99.  25.  13. -63.]\n",
      " [ 66.  60. -30.  95.  18.]\n",
      " [-69.  61. -93.  19.  52.]\n",
      " [  2.   3.   6.   7.   2.]]\n",
      "==========================================================================================\n",
      "[[  68.          -37.          -24.           45.          -23.61213149]\n",
      " [   0.           54.30882353   80.47058824  -27.13235294  -78.45375565]\n",
      " [   0.            0.          100.58326564 -131.39073924   52.70418831]\n",
      " [   0.            0.            0.            8.56573358    1.49537224]]\n",
      " \n",
      "[[  68.          -37.          -24.           45.          -23.61213149]\n",
      " [   0.           54.30882353   80.47058824  -27.13235294  -78.45375565]\n",
      " [   0.            0.          100.58326564 -131.39073924   52.70418831]\n",
      " [   0.            0.            0.            8.56573358    1.49537224]]\n",
      " \n",
      "[[  68.          -37.          -24.           45.          -23.61213149]\n",
      " [   0.           54.30882353   80.47058824  -27.13235294  -78.45375565]\n",
      " [   0.            0.          100.58326564 -131.39073924   52.70418831]\n",
      " [   0.            0.            0.            8.56573358    1.49537224]]\n",
      " \n",
      "Solusi SPL : \n",
      " [-1.54222252 -2.47167168  0.75203235  0.17457609]\n"
     ]
    }
   ],
   "source": [
    "import numpy as np\n",
    "\n",
    "npm = np.array(eval(input('Masukkan 5 digit terakhir NPM kamu: ')),dtype=float) #input matriks dengan bilangan npm\n",
    "FZ = np.random.randint(-100,100, size = (3,5)) #memilih acak bilangan pada matriks ukuran baris 3, kolom 5                                 \n",
    "FZ1 = np.vstack([FZ,npm]) #memasukkan matriks npm ke matriks FZ                \n",
    "\n",
    "#mendefinisikan fungsi scaled partial pivoting\n",
    "def ScaledPartialPivoting(matrix):                                             \n",
    "    n = np.shape(matrix)[0] #membuat fungsi n untuk menghitung jumlah persamaan pada matriks                                                \n",
    "    s = np.array([max(abs(matrix[i,:n])) for i in range(n)]) #membuat fungsi s untuk menentukan skalar pada setiap kolom matriks\n",
    "    if 0 in s:\n",
    "        return \"SPL tidak memiliki solusi unik\" \n",
    "    for i in range(n-1):\n",
    "        below_pivot = abs(matrix[i:,i])/s[i:]\n",
    "        pivot_row = np.argmax(below_pivot)\n",
    "        if matrix[i,pivot_row+i] == 0:\n",
    "            return \"SPL tidak memiliki solusi unik\"\n",
    "        else:\n",
    "            matrix[[pivot_row+i,i]] = matrix[[i,pivot_row+i]]\n",
    "            s[pivot_row+i],s[i] = s[i],s[pivot_row+i]\n",
    "            \n",
    "        #eliminasi gauss\n",
    "        for j in range(i+1,n): \n",
    "            m = matrix[j,i]/matrix[i,i] #membuat fungsi m untuk melakukan operasi baris elementer\n",
    "            matrix[j] = matrix[j]-m*matrix[i]\n",
    "        print(matrix)\n",
    "        print(' ')\n",
    "    return matrix\n",
    "\n",
    "#mendefinisikan fungsi back substitution/substitusi balik\n",
    "def BackSub(matrix):                                                          \n",
    "    n = np.shape(matrix)[0] #jumlah persamaan pada SPL (jumlah baris pada matriks)                                                  \n",
    "    sol = np.zeros(n)  #membuat array 0 berjumlah n                                             \n",
    "    sol[n-1]= matrix[n-1,n]/matrix[n-1,n-1] #menghitung xn                                 \n",
    "    for i in range(n-2,-1,-1):                                               \n",
    "        for j in range(i+1,n):\n",
    "            matrix[i,n]-=matrix[i,j]*sol[j]\n",
    "        sol[i] = matrix[i,n]/matrix[i,i]\n",
    "    return sol\n",
    "\n",
    "print(\"Augmented matriks yang terbentuk dari SPL :\")                        \n",
    "print(M1) #mencetak hasil augmented matriks yang terbentuk\n",
    "print('==========================================================================================')\n",
    "solution = ScaledPartialPivoting(A1) \n",
    "print(f\"Solusi SPL : \\n {BackSub(solution)}\") #mencetak hasil/solusi SPL nya"
   ]
  }
 ],
 "metadata": {
  "kernelspec": {
   "display_name": "Python 3",
   "language": "python",
   "name": "python3"
  },
  "language_info": {
   "codemirror_mode": {
    "name": "ipython",
    "version": 3
   },
   "file_extension": ".py",
   "mimetype": "text/x-python",
   "name": "python",
   "nbconvert_exporter": "python",
   "pygments_lexer": "ipython3",
   "version": "3.8.3"
  }
 },
 "nbformat": 4,
 "nbformat_minor": 4
}
