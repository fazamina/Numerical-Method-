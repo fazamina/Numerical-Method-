{
 "cells": [
  {
   "cell_type": "markdown",
   "metadata": {},
   "source": [
    "# Tugas 3 Praktikum Metode Numerik"
   ]
  },
  {
   "cell_type": "markdown",
   "metadata": {},
   "source": [
    "Faza Muthmainnah - NPM 2006523672 - Kelas Metnum (B)"
   ]
  },
  {
   "cell_type": "code",
   "execution_count": null,
   "metadata": {},
   "outputs": [
    {
     "name": "stdout",
     "output_type": "stream",
     "text": [
      "Masukkan list titik x yang diketahui: [1.8,1.9,2,2.1,2.2]\n",
      "Masukkan list titik f(x) yang diketahui: [10.889365, 12.703199, 14.778112, 17.148957, 19.855030]\n",
      "Masukkan titik dimana nilai turunan fungsinya ingin diaproksimasi: 2.0\n",
      "\n",
      "1. Metode Three Point End Point\n",
      "2. Metode Three Point Mid Point\n",
      "3. Metode Five Point End Point\n",
      "4. Metode Five Point Mid Point\n",
      "Masukan pilihan Metode yang ingin Anda gunakan : 4\n",
      "Masukkan turunan keberapa yang ingin dicari x nya: 1\n",
      "f'(2.0) = 22.16699916666662\n"
     ]
    }
   ],
   "source": [
    "import numpy as np #untuk meng-import numpy sebagai np\n",
    "\n",
    "titik_x = eval(input('Masukkan list titik x yang diketahui: ')) #untuk input titik-titik x\n",
    "titik_y = eval(input('Masukkan list titik f(x) yang diketahui: ')) #untuk input titik-titik y\n",
    "def displaylagrange(x_points, y_points): #mendefinisikan formula fungsi displaylagrange dari titik-titik x dan y yang di input\n",
    "    pol = '0'\n",
    "    n = len(x_points)\n",
    "    for k in range(n):\n",
    "        L = '1'\n",
    "        for i in range(n):\n",
    "            if i != k:\n",
    "                L = '{0}*((x-{1})/({2}-{1}))'.format(L, x_points[i], x_points[k])\n",
    "        pol = '{0}+{1}*{2}'.format(pol, y_points[k], L)\n",
    "    return pol\n",
    "\n",
    "def f(x): #mendefinisikan formula fungsi f(x) \n",
    "    return eval(formula)\n",
    "def g(h): #mendefinisikan formula fungsi g(x)\n",
    "    return formula.replace('x', '(x+{})'.format(h))\n",
    "\n",
    "loop = 1 #definisikan fungsi loop untuk mengulangi program\n",
    "while loop == 1: #jika nilai loop = 1, program jalan\n",
    "    formula = displaylagrange(titik_x, titik_y) \n",
    "    x0 = eval(input('Masukkan titik dimana nilai turunan fungsinya ingin diaproksimasi: ')) #input titik yang turunannya ingin diaproksimasikan\n",
    "    print('\\n1. Metode Three Point End Point')\n",
    "    print('2. Metode Three Point Mid Point')\n",
    "    print('3. Metode Five Point End Point')\n",
    "    print('4. Metode Five Point Mid Point')\n",
    "    pilihan = int(input('Masukan pilihan Metode yang ingin Anda gunakan : ')) #untuk input metode yang ingin digunakan\n",
    "    if (pilihan == '1' or pilihan == '3') and titik_x.index(x0) > (len(titik_x)/2): #Metode TPEP atau FPEP\n",
    "        h = titik_x[0] - titik_x[1] #Formula untuk Metode TPEP atau FPEP\n",
    "    else: #Metode TPMP atau FPMP\n",
    "        h = titik_x[1] - titik_x[0] #Formula untuk Metode TPMP atau FPMP\n",
    "    def diff(h): #mendefinisikan fungsi diff untuk pilihan metode\n",
    "        if pilihan == 1: #Metode Three Point End Point\n",
    "            return '(1/(2*{0}))*(-3*({1})+4*({2})-({3}))'.format(h, g(0), g(h), g(2*h)) #Formula untuk TPEP\n",
    "        elif pilihan == 2: #Metode Three Point Mid Point\n",
    "            return '(1/(2*{0}))*(({1})-({2}))'.format(h, g(h), g(-h))  #Formula untuk TPMP\n",
    "        elif pilihan == 3:#Metode Five Point End Point\n",
    "            return '(1/(12*{0}))*(-25*({1})+48*({2})-36*({3})+16*({4})-3*({5}))'.format(h, g(0), g(h), g(2*h), g(3*h), g(4*h)) #Formula untuk FPEP\n",
    "        elif pilihan == 4: #Metode Five Point Mid Point\n",
    "            return '(1/(12*{0}))*(({1})-8*({2})+8*({3})-({4}))'.format(h, g(-2*h), g(-h), g(h), g(2*h)) #Formula untuk FPMP\n",
    "    \n",
    "    turunan = eval(input('Masukkan turunan keberapa yang ingin dicari x nya: ')) #untuk input turunan ke-berapa yang ingin dicari\n",
    "    for i in range(turunan): #formula fungsi turunan ke-n\n",
    "        formula = diff(h) \n",
    "    print('f' + \"'\"*turunan + '({})'.format(x0) + ' = ' + str(f(x0))) #mencetak nilai turunan sebagai output \n",
    "    \n",
    "    coba = input('Coba lagi? (y/n): ') #pilihan untuk mengulangi program\n",
    "    if coba == 'y': \n",
    "        loop = 1 #jika ya, nilai fungsi loop=1 kembali ke awal\n",
    "    else:\n",
    "        loop = 2 #jika tidak, nilai fungsi loop≠1, maka program berhenti "
   ]
  },
  {
   "cell_type": "code",
   "execution_count": null,
   "metadata": {},
   "outputs": [],
   "source": []
  }
 ],
 "metadata": {
  "kernelspec": {
   "display_name": "Python 3",
   "language": "python",
   "name": "python3"
  },
  "language_info": {
   "codemirror_mode": {
    "name": "ipython",
    "version": 3
   },
   "file_extension": ".py",
   "mimetype": "text/x-python",
   "name": "python",
   "nbconvert_exporter": "python",
   "pygments_lexer": "ipython3",
   "version": "3.8.3"
  }
 },
 "nbformat": 4,
 "nbformat_minor": 4
}
